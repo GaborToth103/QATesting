{
  "cells": [
    {
      "cell_type": "markdown",
      "metadata": {
        "id": "view-in-github"
      },
      "source": [
        "<a href=\"https://colab.research.google.com/github/vilsonrodrigues/NLP/blob/master/Llama_2_GGML_CTransformers/Llama_2_GGML_CTransformers.ipynb\" target=\"_parent\"><img src=\"https://colab.research.google.com/assets/colab-badge.svg\" alt=\"Open In Colab\"/></a>"
      ]
    },
    {
      "cell_type": "code",
      "execution_count": 2,
      "metadata": {
        "colab": {
          "base_uri": "https://localhost:8080/"
        },
        "id": "FSxX-VO5ya0c",
        "outputId": "576a0d28-4085-48c7-8659-0a3d476aff56"
      },
      "outputs": [
        {
          "name": "stdout",
          "output_type": "stream",
          "text": [
            "Note: you may need to restart the kernel to use updated packages.Requirement already satisfied: ctransformers in c:\\users\\generion\\appdata\\local\\programs\\python\\python311\\lib\\site-packages (0.2.27)\n",
            "Requirement already satisfied: huggingface-hub in c:\\users\\generion\\appdata\\local\\programs\\python\\python311\\lib\\site-packages (from ctransformers) (0.14.0)\n",
            "Requirement already satisfied: py-cpuinfo<10.0.0,>=9.0.0 in c:\\users\\generion\\appdata\\local\\programs\\python\\python311\\lib\\site-packages (from ctransformers) (9.0.0)\n",
            "Requirement already satisfied: filelock in c:\\users\\generion\\appdata\\local\\programs\\python\\python311\\lib\\site-packages (from huggingface-hub->ctransformers) (3.12.0)\n",
            "Requirement already satisfied: fsspec in c:\\users\\generion\\appdata\\local\\programs\\python\\python311\\lib\\site-packages (from huggingface-hub->ctransformers) (2023.4.0)\n",
            "Requirement already satisfied: requests in c:\\users\\generion\\appdata\\local\\programs\\python\\python311\\lib\\site-packages (from huggingface-hub->ctransformers) (2.28.2)\n",
            "Requirement already satisfied: tqdm>=4.42.1 in c:\\users\\generion\\appdata\\local\\programs\\python\\python311\\lib\\site-packages (from huggingface-hub->ctransformers) (4.65.0)\n",
            "Requirement already satisfied: pyyaml>=5.1 in c:\\users\\generion\\appdata\\local\\programs\\python\\python311\\lib\\site-packages (from huggingface-hub->ctransformers) (6.0)\n",
            "Requirement already satisfied: typing-extensions>=3.7.4.3 in c:\\users\\generion\\appdata\\local\\programs\\python\\python311\\lib\\site-packages (from huggingface-hub->ctransformers) (4.5.0)\n",
            "Requirement already satisfied: packaging>=20.9 in c:\\users\\generion\\appdata\\local\\programs\\python\\python311\\lib\\site-packages (from huggingface-hub->ctransformers) (23.0)\n",
            "Requirement already satisfied: colorama in c:\\users\\generion\\appdata\\local\\programs\\python\\python311\\lib\\site-packages (from tqdm>=4.42.1->huggingface-hub->ctransformers) (0.4.6)\n",
            "Requirement already satisfied: charset-normalizer<4,>=2 in c:\\users\\generion\\appdata\\local\\programs\\python\\python311\\lib\\site-packages (from requests->huggingface-hub->ctransformers) (3.0.1)\n",
            "Requirement already satisfied: idna<4,>=2.5 in c:\\users\\generion\\appdata\\local\\programs\\python\\python311\\lib\\site-packages (from requests->huggingface-hub->ctransformers) (3.4)\n",
            "Requirement already satisfied: urllib3<1.27,>=1.21.1 in c:\\users\\generion\\appdata\\local\\programs\\python\\python311\\lib\\site-packages (from requests->huggingface-hub->ctransformers) (1.26.14)\n",
            "Requirement already satisfied: certifi>=2017.4.17 in c:\\users\\generion\\appdata\\local\\programs\\python\\python311\\lib\\site-packages (from requests->huggingface-hub->ctransformers) (2022.12.7)\n",
            "\n"
          ]
        },
        {
          "name": "stderr",
          "output_type": "stream",
          "text": [
            "\n",
            "[notice] A new release of pip is available: 23.1.2 -> 23.3.1\n",
            "[notice] To update, run: python.exe -m pip install --upgrade pip\n"
          ]
        }
      ],
      "source": [
        "pip install ctransformers --no-binary ctransformers"
      ]
    },
    {
      "cell_type": "code",
      "execution_count": 9,
      "metadata": {
        "colab": {
          "base_uri": "https://localhost:8080/",
          "height": 81,
          "referenced_widgets": [
            "6653af41839f4a799ece849ddbac00c7",
            "7f8af6866de64cf49463a7bd93b64f6e",
            "0446f281c5ac4db49e272d9cdd919ae3",
            "506001799cb44768afd953de01838209",
            "af647c90209247e7aac971c7e073953c",
            "b15ed4c6555d432cbb8f0a7b089ddc81",
            "9348ab4f89e141b9b84ef81582f4014b",
            "1aa242badb864dcdbd0cd04b706a4b59",
            "3e9bbdb55bcf47e89c39bab9b5be809e",
            "4834a7cbe44045a49af971968b9acb5a",
            "d600329cfab041f4bbe34cbbeacf661b",
            "12249281f2594a6695b969d2b471daf8",
            "255ef12af6844ebf97140c1922d83851",
            "ff629413888e4f86a3e7d29c9a55eb81",
            "7839aef9033a473faf1719583ebabeb5",
            "ecb4ea4bb4dc4a1b8567a6578f3ab013",
            "9d6ba8168b1c49e9bee79c42356156a8",
            "ebc94ead69ea4c12b05b52b94b176b29",
            "155a74b737dc49249c7469a4e11cef7d",
            "cf33c7eba0544c1682360d043658ac8e",
            "2bce8c2585af4f9184f6b00eedbc5c9d",
            "7a2de786a6e24de8bb9f8b0fa53e4c5f"
          ]
        },
        "id": "F4zXrO1Ehv3N",
        "outputId": "e3722a9c-a101-494f-9185-92af875044e6"
      },
      "outputs": [
        {
          "name": "stderr",
          "output_type": "stream",
          "text": [
            "Fetching 1 files: 100%|██████████| 1/1 [00:00<?, ?it/s]\n",
            "Fetching 1 files: 100%|██████████| 1/1 [00:00<?, ?it/s]\n"
          ]
        }
      ],
      "source": [
        "model_id = [\"TheBloke/Llama-2-7B-GGML\" \"TheBloke/Llama-2-7B-chat-GGML\", \"TheBloke/Llama-2-13B-GGML\", \"TheBloke/Llama-2-13B-chat-GGML\"]\n",
        "from ctransformers import AutoModelForCausalLM\n",
        "\n",
        "config = {'max_new_tokens': 256, 'repetition_penalty': 1.1, 'temperature': 0.1, 'stream': True}\n",
        "\n",
        "llm = AutoModelForCausalLM.from_pretrained(model_id[1],\n",
        "                                           model_type=\"llama\",\n",
        "                                           # lib='avx2', # for cpu use\n",
        "                                           gpu_layers=110, #110 for 7b, 130 for 13b\n",
        "                                           **config\n",
        "                                           )"
      ]
    },
    {
      "cell_type": "markdown",
      "metadata": {
        "id": "TnWlnPuV4K29"
      },
      "source": [
        "## LLAMA-2-7B-Chat tests"
      ]
    },
    {
      "cell_type": "markdown",
      "metadata": {
        "id": "iA7q--qmxJT0"
      },
      "source": [
        "### Tokenizer"
      ]
    },
    {
      "cell_type": "code",
      "execution_count": 10,
      "metadata": {
        "id": "MHL-6-iGzgO5"
      },
      "outputs": [],
      "source": [
        "prompt=\"\"\" What time is it? \"\"\""
      ]
    },
    {
      "cell_type": "code",
      "execution_count": 11,
      "metadata": {
        "id": "N1CDKtF_w7qt"
      },
      "outputs": [],
      "source": [
        "tokens = llm.tokenize(prompt)"
      ]
    },
    {
      "cell_type": "markdown",
      "metadata": {
        "id": "kgTA3z-9yLiG"
      },
      "source": [
        "### Pipeline"
      ]
    },
    {
      "cell_type": "code",
      "execution_count": 12,
      "metadata": {
        "colab": {
          "base_uri": "https://localhost:8080/",
          "height": 87
        },
        "id": "wItUOIoTxskA",
        "outputId": "25320299-633e-41b7-bf41-7e99e1b05a90"
      },
      "outputs": [
        {
          "data": {
            "text/plain": [
              "'10:30.\\nWhat day is today? Friday.\\nWhat date is today? 2/15/19.\\nWhat year is this? 2019.\\nWhat month is this? February.\\nWhat season is this? Winter.\\nWhat is the weather like? Cold and rainy.\\nWhat are you doing now? I am reading a book.\\nWhere are you right now? In my room.\\nWhat are you wearing? A sweater, jeans, and sneakers.\\nWhat do you hear? The TV.\\nWhat do you see? My computer screen.\\nWhat is the date today? 2/15/19.\\nWhat time is it? 10:30.\\nWhat day is today? Friday.\\nWhat are you doing now? I am reading a book.\\nWhere are you right now? In my room.\\nWhat are you wearing? A sweater, jeans, and sneakers.\\nWhat do you hear? The TV.\\nWhat do you see? My computer screen.'"
            ]
          },
          "execution_count": 12,
          "metadata": {},
          "output_type": "execute_result"
        }
      ],
      "source": [
        "# 'pipeline' execution\n",
        "llm(prompt, stream=False)"
      ]
    },
    {
      "cell_type": "markdown",
      "metadata": {
        "id": "C3po3AlayOAA"
      },
      "source": [
        "### Generate with stream execution"
      ]
    },
    {
      "cell_type": "code",
      "execution_count": 13,
      "metadata": {
        "colab": {
          "base_uri": "https://localhost:8080/",
          "height": 1000
        },
        "id": "dQkt0pnXxhlk",
        "outputId": "dd2a8413-32cd-4243-aa46-9db69d662a42"
      },
      "outputs": [
        {
          "name": "stdout",
          "output_type": "stream",
          "text": [
            "----Start Generation----\n",
            "10:30.\n",
            "What day is today? Friday.\n",
            "What day was yesterday? Thursday.\n",
            "What day will tomorrow be? Saturday.\n",
            "What month is this? September.\n",
            "What season is it? Fall.\n",
            "What color are your eyes? Blue.\n",
            "What color is your hair? Brown.\n",
            "What do you want to be when you grow up? A teacher.\n",
            "What do you like to eat for breakfast? Cereal.\n",
            "What do you like to eat for lunch? Pizza.\n",
            "What do you like to eat for dinner? Chicken.\n",
            "What do you want for your birthday? A puppy.\n",
            "What is your favorite color? Blue.\n",
            "What is your favorite animal? Dog.\n",
            "What is your favorite song? \"I'm a Little Teapot.\"\n",
            "What is"
          ]
        },
        {
          "ename": "KeyboardInterrupt",
          "evalue": "",
          "output_type": "error",
          "traceback": [
            "\u001b[1;31m---------------------------------------------------------------------------\u001b[0m",
            "\u001b[1;31mKeyboardInterrupt\u001b[0m                         Traceback (most recent call last)",
            "\u001b[1;32md:\\project\\egyetem\\QuestionAnswering\\llama2.ipynb Cell 11\u001b[0m line \u001b[0;36m6\n\u001b[0;32m      <a href='vscode-notebook-cell:/d%3A/project/egyetem/QuestionAnswering/llama2.ipynb#X26sZmlsZQ%3D%3D?line=3'>4</a>\u001b[0m NUM_TOKENS\u001b[39m=\u001b[39m\u001b[39m0\u001b[39m\n\u001b[0;32m      <a href='vscode-notebook-cell:/d%3A/project/egyetem/QuestionAnswering/llama2.ipynb#X26sZmlsZQ%3D%3D?line=4'>5</a>\u001b[0m \u001b[39mprint\u001b[39m(\u001b[39m'\u001b[39m\u001b[39m-\u001b[39m\u001b[39m'\u001b[39m\u001b[39m*\u001b[39m\u001b[39m4\u001b[39m\u001b[39m+\u001b[39m\u001b[39m'\u001b[39m\u001b[39mStart Generation\u001b[39m\u001b[39m'\u001b[39m\u001b[39m+\u001b[39m\u001b[39m'\u001b[39m\u001b[39m-\u001b[39m\u001b[39m'\u001b[39m\u001b[39m*\u001b[39m\u001b[39m4\u001b[39m)\n\u001b[1;32m----> <a href='vscode-notebook-cell:/d%3A/project/egyetem/QuestionAnswering/llama2.ipynb#X26sZmlsZQ%3D%3D?line=5'>6</a>\u001b[0m \u001b[39mfor\u001b[39;00m token \u001b[39min\u001b[39;00m llm\u001b[39m.\u001b[39mgenerate(tokens):\n\u001b[0;32m      <a href='vscode-notebook-cell:/d%3A/project/egyetem/QuestionAnswering/llama2.ipynb#X26sZmlsZQ%3D%3D?line=6'>7</a>\u001b[0m     \u001b[39mprint\u001b[39m(llm\u001b[39m.\u001b[39mdetokenize(token), end\u001b[39m=\u001b[39m\u001b[39m'\u001b[39m\u001b[39m'\u001b[39m, flush\u001b[39m=\u001b[39m\u001b[39mTrue\u001b[39;00m)\n\u001b[0;32m      <a href='vscode-notebook-cell:/d%3A/project/egyetem/QuestionAnswering/llama2.ipynb#X26sZmlsZQ%3D%3D?line=7'>8</a>\u001b[0m     NUM_TOKENS\u001b[39m+\u001b[39m\u001b[39m=\u001b[39m\u001b[39m1\u001b[39m\n",
            "File \u001b[1;32mc:\\Users\\Generion\\AppData\\Local\\Programs\\Python\\Python311\\Lib\\site-packages\\ctransformers\\llm.py:537\u001b[0m, in \u001b[0;36mLLM.generate\u001b[1;34m(self, tokens, top_k, top_p, temperature, repetition_penalty, last_n_tokens, seed, batch_size, threads, reset)\u001b[0m\n\u001b[0;32m    528\u001b[0m \u001b[39mwhile\u001b[39;00m \u001b[39mTrue\u001b[39;00m:\n\u001b[0;32m    529\u001b[0m     token \u001b[39m=\u001b[39m \u001b[39mself\u001b[39m\u001b[39m.\u001b[39msample(\n\u001b[0;32m    530\u001b[0m         top_k\u001b[39m=\u001b[39mtop_k,\n\u001b[0;32m    531\u001b[0m         top_p\u001b[39m=\u001b[39mtop_p,\n\u001b[1;32m   (...)\u001b[0m\n\u001b[0;32m    535\u001b[0m         seed\u001b[39m=\u001b[39mseed,\n\u001b[0;32m    536\u001b[0m     )\n\u001b[1;32m--> 537\u001b[0m     \u001b[39mself\u001b[39;49m\u001b[39m.\u001b[39;49meval([token], batch_size\u001b[39m=\u001b[39;49mbatch_size, threads\u001b[39m=\u001b[39;49mthreads)\n\u001b[0;32m    538\u001b[0m     \u001b[39mif\u001b[39;00m \u001b[39mself\u001b[39m\u001b[39m.\u001b[39mis_eos_token(token):\n\u001b[0;32m    539\u001b[0m         \u001b[39mbreak\u001b[39;00m\n",
            "File \u001b[1;32mc:\\Users\\Generion\\AppData\\Local\\Programs\\Python\\Python311\\Lib\\site-packages\\ctransformers\\llm.py:403\u001b[0m, in \u001b[0;36mLLM.eval\u001b[1;34m(self, tokens, batch_size, threads)\u001b[0m\n\u001b[0;32m    399\u001b[0m     logger\u001b[39m.\u001b[39mwarning(\n\u001b[0;32m    400\u001b[0m         \u001b[39mf\u001b[39m\u001b[39m\"\u001b[39m\u001b[39mNumber of tokens (\u001b[39m\u001b[39m{\u001b[39;00mn_past\u001b[39m \u001b[39m\u001b[39m+\u001b[39m\u001b[39m \u001b[39mn_tokens\u001b[39m}\u001b[39;00m\u001b[39m) exceeded maximum context length (\u001b[39m\u001b[39m{\u001b[39;00m\u001b[39mself\u001b[39m\u001b[39m.\u001b[39mcontext_length\u001b[39m}\u001b[39;00m\u001b[39m).\u001b[39m\u001b[39m\"\u001b[39m\n\u001b[0;32m    401\u001b[0m     )\n\u001b[0;32m    402\u001b[0m tokens \u001b[39m=\u001b[39m (c_int \u001b[39m*\u001b[39m n_tokens)(\u001b[39m*\u001b[39mtokens)\n\u001b[1;32m--> 403\u001b[0m status \u001b[39m=\u001b[39m \u001b[39mself\u001b[39;49m\u001b[39m.\u001b[39;49mctransformers_llm_batch_eval(\n\u001b[0;32m    404\u001b[0m     tokens,\n\u001b[0;32m    405\u001b[0m     n_tokens,\n\u001b[0;32m    406\u001b[0m     n_past,\n\u001b[0;32m    407\u001b[0m     batch_size,\n\u001b[0;32m    408\u001b[0m     threads,\n\u001b[0;32m    409\u001b[0m )\n\u001b[0;32m    410\u001b[0m \u001b[39mif\u001b[39;00m \u001b[39mnot\u001b[39;00m status:\n\u001b[0;32m    411\u001b[0m     \u001b[39mraise\u001b[39;00m \u001b[39mRuntimeError\u001b[39;00m(\u001b[39m\"\u001b[39m\u001b[39mFailed to evaluate tokens.\u001b[39m\u001b[39m\"\u001b[39m)\n",
            "\u001b[1;31mKeyboardInterrupt\u001b[0m: "
          ]
        }
      ],
      "source": [
        "# LlAMA-2-7b-chat execution\n",
        "import time\n",
        "start = time.time()\n",
        "NUM_TOKENS=0\n",
        "print('-'*4+'Start Generation'+'-'*4)\n",
        "for token in llm.generate(tokens):\n",
        "    print(llm.detokenize(token), end='', flush=True)\n",
        "    NUM_TOKENS+=1\n",
        "    if NUM_TOKENS > 500:\n",
        "      break\n",
        "time_generate = time.time() - start\n",
        "print('\\n')\n",
        "print('-'*4+'End Generation'+'-'*4)\n",
        "print(f'Num of generated tokens: {NUM_TOKENS}')\n",
        "print(f'Time for complete generation: {time_generate}s')\n",
        "print(f'Tokens per secound: {NUM_TOKENS/time_generate}')\n",
        "print(f'Time per token: {(time_generate/NUM_TOKENS)*1000}ms')"
      ]
    }
  ],
  "metadata": {
    "accelerator": "GPU",
    "colab": {
      "provenance": []
    },
    "kernelspec": {
      "display_name": "Python 3",
      "name": "python3"
    },
    "language_info": {
      "codemirror_mode": {
        "name": "ipython",
        "version": 3
      },
      "file_extension": ".py",
      "mimetype": "text/x-python",
      "name": "python",
      "nbconvert_exporter": "python",
      "pygments_lexer": "ipython3",
      "version": "3.11.3"
    },
    "widgets": {
      "application/vnd.jupyter.widget-state+json": {
        "0446f281c5ac4db49e272d9cdd919ae3": {
          "model_module": "@jupyter-widgets/controls",
          "model_module_version": "1.5.0",
          "model_name": "FloatProgressModel",
          "state": {
            "_dom_classes": [],
            "_model_module": "@jupyter-widgets/controls",
            "_model_module_version": "1.5.0",
            "_model_name": "FloatProgressModel",
            "_view_count": null,
            "_view_module": "@jupyter-widgets/controls",
            "_view_module_version": "1.5.0",
            "_view_name": "ProgressView",
            "bar_style": "success",
            "description": "",
            "description_tooltip": null,
            "layout": "IPY_MODEL_1aa242badb864dcdbd0cd04b706a4b59",
            "max": 1,
            "min": 0,
            "orientation": "horizontal",
            "style": "IPY_MODEL_3e9bbdb55bcf47e89c39bab9b5be809e",
            "value": 1
          }
        },
        "12249281f2594a6695b969d2b471daf8": {
          "model_module": "@jupyter-widgets/controls",
          "model_module_version": "1.5.0",
          "model_name": "HBoxModel",
          "state": {
            "_dom_classes": [],
            "_model_module": "@jupyter-widgets/controls",
            "_model_module_version": "1.5.0",
            "_model_name": "HBoxModel",
            "_view_count": null,
            "_view_module": "@jupyter-widgets/controls",
            "_view_module_version": "1.5.0",
            "_view_name": "HBoxView",
            "box_style": "",
            "children": [
              "IPY_MODEL_255ef12af6844ebf97140c1922d83851",
              "IPY_MODEL_ff629413888e4f86a3e7d29c9a55eb81",
              "IPY_MODEL_7839aef9033a473faf1719583ebabeb5"
            ],
            "layout": "IPY_MODEL_ecb4ea4bb4dc4a1b8567a6578f3ab013"
          }
        },
        "155a74b737dc49249c7469a4e11cef7d": {
          "model_module": "@jupyter-widgets/base",
          "model_module_version": "1.2.0",
          "model_name": "LayoutModel",
          "state": {
            "_model_module": "@jupyter-widgets/base",
            "_model_module_version": "1.2.0",
            "_model_name": "LayoutModel",
            "_view_count": null,
            "_view_module": "@jupyter-widgets/base",
            "_view_module_version": "1.2.0",
            "_view_name": "LayoutView",
            "align_content": null,
            "align_items": null,
            "align_self": null,
            "border": null,
            "bottom": null,
            "display": null,
            "flex": null,
            "flex_flow": null,
            "grid_area": null,
            "grid_auto_columns": null,
            "grid_auto_flow": null,
            "grid_auto_rows": null,
            "grid_column": null,
            "grid_gap": null,
            "grid_row": null,
            "grid_template_areas": null,
            "grid_template_columns": null,
            "grid_template_rows": null,
            "height": null,
            "justify_content": null,
            "justify_items": null,
            "left": null,
            "margin": null,
            "max_height": null,
            "max_width": null,
            "min_height": null,
            "min_width": null,
            "object_fit": null,
            "object_position": null,
            "order": null,
            "overflow": null,
            "overflow_x": null,
            "overflow_y": null,
            "padding": null,
            "right": null,
            "top": null,
            "visibility": null,
            "width": null
          }
        },
        "1aa242badb864dcdbd0cd04b706a4b59": {
          "model_module": "@jupyter-widgets/base",
          "model_module_version": "1.2.0",
          "model_name": "LayoutModel",
          "state": {
            "_model_module": "@jupyter-widgets/base",
            "_model_module_version": "1.2.0",
            "_model_name": "LayoutModel",
            "_view_count": null,
            "_view_module": "@jupyter-widgets/base",
            "_view_module_version": "1.2.0",
            "_view_name": "LayoutView",
            "align_content": null,
            "align_items": null,
            "align_self": null,
            "border": null,
            "bottom": null,
            "display": null,
            "flex": null,
            "flex_flow": null,
            "grid_area": null,
            "grid_auto_columns": null,
            "grid_auto_flow": null,
            "grid_auto_rows": null,
            "grid_column": null,
            "grid_gap": null,
            "grid_row": null,
            "grid_template_areas": null,
            "grid_template_columns": null,
            "grid_template_rows": null,
            "height": null,
            "justify_content": null,
            "justify_items": null,
            "left": null,
            "margin": null,
            "max_height": null,
            "max_width": null,
            "min_height": null,
            "min_width": null,
            "object_fit": null,
            "object_position": null,
            "order": null,
            "overflow": null,
            "overflow_x": null,
            "overflow_y": null,
            "padding": null,
            "right": null,
            "top": null,
            "visibility": null,
            "width": null
          }
        },
        "255ef12af6844ebf97140c1922d83851": {
          "model_module": "@jupyter-widgets/controls",
          "model_module_version": "1.5.0",
          "model_name": "HTMLModel",
          "state": {
            "_dom_classes": [],
            "_model_module": "@jupyter-widgets/controls",
            "_model_module_version": "1.5.0",
            "_model_name": "HTMLModel",
            "_view_count": null,
            "_view_module": "@jupyter-widgets/controls",
            "_view_module_version": "1.5.0",
            "_view_name": "HTMLView",
            "description": "",
            "description_tooltip": null,
            "layout": "IPY_MODEL_9d6ba8168b1c49e9bee79c42356156a8",
            "placeholder": "​",
            "style": "IPY_MODEL_ebc94ead69ea4c12b05b52b94b176b29",
            "value": "Fetching 1 files: 100%"
          }
        },
        "2bce8c2585af4f9184f6b00eedbc5c9d": {
          "model_module": "@jupyter-widgets/base",
          "model_module_version": "1.2.0",
          "model_name": "LayoutModel",
          "state": {
            "_model_module": "@jupyter-widgets/base",
            "_model_module_version": "1.2.0",
            "_model_name": "LayoutModel",
            "_view_count": null,
            "_view_module": "@jupyter-widgets/base",
            "_view_module_version": "1.2.0",
            "_view_name": "LayoutView",
            "align_content": null,
            "align_items": null,
            "align_self": null,
            "border": null,
            "bottom": null,
            "display": null,
            "flex": null,
            "flex_flow": null,
            "grid_area": null,
            "grid_auto_columns": null,
            "grid_auto_flow": null,
            "grid_auto_rows": null,
            "grid_column": null,
            "grid_gap": null,
            "grid_row": null,
            "grid_template_areas": null,
            "grid_template_columns": null,
            "grid_template_rows": null,
            "height": null,
            "justify_content": null,
            "justify_items": null,
            "left": null,
            "margin": null,
            "max_height": null,
            "max_width": null,
            "min_height": null,
            "min_width": null,
            "object_fit": null,
            "object_position": null,
            "order": null,
            "overflow": null,
            "overflow_x": null,
            "overflow_y": null,
            "padding": null,
            "right": null,
            "top": null,
            "visibility": null,
            "width": null
          }
        },
        "3e9bbdb55bcf47e89c39bab9b5be809e": {
          "model_module": "@jupyter-widgets/controls",
          "model_module_version": "1.5.0",
          "model_name": "ProgressStyleModel",
          "state": {
            "_model_module": "@jupyter-widgets/controls",
            "_model_module_version": "1.5.0",
            "_model_name": "ProgressStyleModel",
            "_view_count": null,
            "_view_module": "@jupyter-widgets/base",
            "_view_module_version": "1.2.0",
            "_view_name": "StyleView",
            "bar_color": null,
            "description_width": ""
          }
        },
        "4834a7cbe44045a49af971968b9acb5a": {
          "model_module": "@jupyter-widgets/base",
          "model_module_version": "1.2.0",
          "model_name": "LayoutModel",
          "state": {
            "_model_module": "@jupyter-widgets/base",
            "_model_module_version": "1.2.0",
            "_model_name": "LayoutModel",
            "_view_count": null,
            "_view_module": "@jupyter-widgets/base",
            "_view_module_version": "1.2.0",
            "_view_name": "LayoutView",
            "align_content": null,
            "align_items": null,
            "align_self": null,
            "border": null,
            "bottom": null,
            "display": null,
            "flex": null,
            "flex_flow": null,
            "grid_area": null,
            "grid_auto_columns": null,
            "grid_auto_flow": null,
            "grid_auto_rows": null,
            "grid_column": null,
            "grid_gap": null,
            "grid_row": null,
            "grid_template_areas": null,
            "grid_template_columns": null,
            "grid_template_rows": null,
            "height": null,
            "justify_content": null,
            "justify_items": null,
            "left": null,
            "margin": null,
            "max_height": null,
            "max_width": null,
            "min_height": null,
            "min_width": null,
            "object_fit": null,
            "object_position": null,
            "order": null,
            "overflow": null,
            "overflow_x": null,
            "overflow_y": null,
            "padding": null,
            "right": null,
            "top": null,
            "visibility": null,
            "width": null
          }
        },
        "506001799cb44768afd953de01838209": {
          "model_module": "@jupyter-widgets/controls",
          "model_module_version": "1.5.0",
          "model_name": "HTMLModel",
          "state": {
            "_dom_classes": [],
            "_model_module": "@jupyter-widgets/controls",
            "_model_module_version": "1.5.0",
            "_model_name": "HTMLModel",
            "_view_count": null,
            "_view_module": "@jupyter-widgets/controls",
            "_view_module_version": "1.5.0",
            "_view_name": "HTMLView",
            "description": "",
            "description_tooltip": null,
            "layout": "IPY_MODEL_4834a7cbe44045a49af971968b9acb5a",
            "placeholder": "​",
            "style": "IPY_MODEL_d600329cfab041f4bbe34cbbeacf661b",
            "value": " 1/1 [00:00&lt;00:00, 48.45it/s]"
          }
        },
        "6653af41839f4a799ece849ddbac00c7": {
          "model_module": "@jupyter-widgets/controls",
          "model_module_version": "1.5.0",
          "model_name": "HBoxModel",
          "state": {
            "_dom_classes": [],
            "_model_module": "@jupyter-widgets/controls",
            "_model_module_version": "1.5.0",
            "_model_name": "HBoxModel",
            "_view_count": null,
            "_view_module": "@jupyter-widgets/controls",
            "_view_module_version": "1.5.0",
            "_view_name": "HBoxView",
            "box_style": "",
            "children": [
              "IPY_MODEL_7f8af6866de64cf49463a7bd93b64f6e",
              "IPY_MODEL_0446f281c5ac4db49e272d9cdd919ae3",
              "IPY_MODEL_506001799cb44768afd953de01838209"
            ],
            "layout": "IPY_MODEL_af647c90209247e7aac971c7e073953c"
          }
        },
        "7839aef9033a473faf1719583ebabeb5": {
          "model_module": "@jupyter-widgets/controls",
          "model_module_version": "1.5.0",
          "model_name": "HTMLModel",
          "state": {
            "_dom_classes": [],
            "_model_module": "@jupyter-widgets/controls",
            "_model_module_version": "1.5.0",
            "_model_name": "HTMLModel",
            "_view_count": null,
            "_view_module": "@jupyter-widgets/controls",
            "_view_module_version": "1.5.0",
            "_view_name": "HTMLView",
            "description": "",
            "description_tooltip": null,
            "layout": "IPY_MODEL_2bce8c2585af4f9184f6b00eedbc5c9d",
            "placeholder": "​",
            "style": "IPY_MODEL_7a2de786a6e24de8bb9f8b0fa53e4c5f",
            "value": " 1/1 [00:00&lt;00:00, 51.93it/s]"
          }
        },
        "7a2de786a6e24de8bb9f8b0fa53e4c5f": {
          "model_module": "@jupyter-widgets/controls",
          "model_module_version": "1.5.0",
          "model_name": "DescriptionStyleModel",
          "state": {
            "_model_module": "@jupyter-widgets/controls",
            "_model_module_version": "1.5.0",
            "_model_name": "DescriptionStyleModel",
            "_view_count": null,
            "_view_module": "@jupyter-widgets/base",
            "_view_module_version": "1.2.0",
            "_view_name": "StyleView",
            "description_width": ""
          }
        },
        "7f8af6866de64cf49463a7bd93b64f6e": {
          "model_module": "@jupyter-widgets/controls",
          "model_module_version": "1.5.0",
          "model_name": "HTMLModel",
          "state": {
            "_dom_classes": [],
            "_model_module": "@jupyter-widgets/controls",
            "_model_module_version": "1.5.0",
            "_model_name": "HTMLModel",
            "_view_count": null,
            "_view_module": "@jupyter-widgets/controls",
            "_view_module_version": "1.5.0",
            "_view_name": "HTMLView",
            "description": "",
            "description_tooltip": null,
            "layout": "IPY_MODEL_b15ed4c6555d432cbb8f0a7b089ddc81",
            "placeholder": "​",
            "style": "IPY_MODEL_9348ab4f89e141b9b84ef81582f4014b",
            "value": "Fetching 1 files: 100%"
          }
        },
        "9348ab4f89e141b9b84ef81582f4014b": {
          "model_module": "@jupyter-widgets/controls",
          "model_module_version": "1.5.0",
          "model_name": "DescriptionStyleModel",
          "state": {
            "_model_module": "@jupyter-widgets/controls",
            "_model_module_version": "1.5.0",
            "_model_name": "DescriptionStyleModel",
            "_view_count": null,
            "_view_module": "@jupyter-widgets/base",
            "_view_module_version": "1.2.0",
            "_view_name": "StyleView",
            "description_width": ""
          }
        },
        "9d6ba8168b1c49e9bee79c42356156a8": {
          "model_module": "@jupyter-widgets/base",
          "model_module_version": "1.2.0",
          "model_name": "LayoutModel",
          "state": {
            "_model_module": "@jupyter-widgets/base",
            "_model_module_version": "1.2.0",
            "_model_name": "LayoutModel",
            "_view_count": null,
            "_view_module": "@jupyter-widgets/base",
            "_view_module_version": "1.2.0",
            "_view_name": "LayoutView",
            "align_content": null,
            "align_items": null,
            "align_self": null,
            "border": null,
            "bottom": null,
            "display": null,
            "flex": null,
            "flex_flow": null,
            "grid_area": null,
            "grid_auto_columns": null,
            "grid_auto_flow": null,
            "grid_auto_rows": null,
            "grid_column": null,
            "grid_gap": null,
            "grid_row": null,
            "grid_template_areas": null,
            "grid_template_columns": null,
            "grid_template_rows": null,
            "height": null,
            "justify_content": null,
            "justify_items": null,
            "left": null,
            "margin": null,
            "max_height": null,
            "max_width": null,
            "min_height": null,
            "min_width": null,
            "object_fit": null,
            "object_position": null,
            "order": null,
            "overflow": null,
            "overflow_x": null,
            "overflow_y": null,
            "padding": null,
            "right": null,
            "top": null,
            "visibility": null,
            "width": null
          }
        },
        "af647c90209247e7aac971c7e073953c": {
          "model_module": "@jupyter-widgets/base",
          "model_module_version": "1.2.0",
          "model_name": "LayoutModel",
          "state": {
            "_model_module": "@jupyter-widgets/base",
            "_model_module_version": "1.2.0",
            "_model_name": "LayoutModel",
            "_view_count": null,
            "_view_module": "@jupyter-widgets/base",
            "_view_module_version": "1.2.0",
            "_view_name": "LayoutView",
            "align_content": null,
            "align_items": null,
            "align_self": null,
            "border": null,
            "bottom": null,
            "display": null,
            "flex": null,
            "flex_flow": null,
            "grid_area": null,
            "grid_auto_columns": null,
            "grid_auto_flow": null,
            "grid_auto_rows": null,
            "grid_column": null,
            "grid_gap": null,
            "grid_row": null,
            "grid_template_areas": null,
            "grid_template_columns": null,
            "grid_template_rows": null,
            "height": null,
            "justify_content": null,
            "justify_items": null,
            "left": null,
            "margin": null,
            "max_height": null,
            "max_width": null,
            "min_height": null,
            "min_width": null,
            "object_fit": null,
            "object_position": null,
            "order": null,
            "overflow": null,
            "overflow_x": null,
            "overflow_y": null,
            "padding": null,
            "right": null,
            "top": null,
            "visibility": null,
            "width": null
          }
        },
        "b15ed4c6555d432cbb8f0a7b089ddc81": {
          "model_module": "@jupyter-widgets/base",
          "model_module_version": "1.2.0",
          "model_name": "LayoutModel",
          "state": {
            "_model_module": "@jupyter-widgets/base",
            "_model_module_version": "1.2.0",
            "_model_name": "LayoutModel",
            "_view_count": null,
            "_view_module": "@jupyter-widgets/base",
            "_view_module_version": "1.2.0",
            "_view_name": "LayoutView",
            "align_content": null,
            "align_items": null,
            "align_self": null,
            "border": null,
            "bottom": null,
            "display": null,
            "flex": null,
            "flex_flow": null,
            "grid_area": null,
            "grid_auto_columns": null,
            "grid_auto_flow": null,
            "grid_auto_rows": null,
            "grid_column": null,
            "grid_gap": null,
            "grid_row": null,
            "grid_template_areas": null,
            "grid_template_columns": null,
            "grid_template_rows": null,
            "height": null,
            "justify_content": null,
            "justify_items": null,
            "left": null,
            "margin": null,
            "max_height": null,
            "max_width": null,
            "min_height": null,
            "min_width": null,
            "object_fit": null,
            "object_position": null,
            "order": null,
            "overflow": null,
            "overflow_x": null,
            "overflow_y": null,
            "padding": null,
            "right": null,
            "top": null,
            "visibility": null,
            "width": null
          }
        },
        "cf33c7eba0544c1682360d043658ac8e": {
          "model_module": "@jupyter-widgets/controls",
          "model_module_version": "1.5.0",
          "model_name": "ProgressStyleModel",
          "state": {
            "_model_module": "@jupyter-widgets/controls",
            "_model_module_version": "1.5.0",
            "_model_name": "ProgressStyleModel",
            "_view_count": null,
            "_view_module": "@jupyter-widgets/base",
            "_view_module_version": "1.2.0",
            "_view_name": "StyleView",
            "bar_color": null,
            "description_width": ""
          }
        },
        "d600329cfab041f4bbe34cbbeacf661b": {
          "model_module": "@jupyter-widgets/controls",
          "model_module_version": "1.5.0",
          "model_name": "DescriptionStyleModel",
          "state": {
            "_model_module": "@jupyter-widgets/controls",
            "_model_module_version": "1.5.0",
            "_model_name": "DescriptionStyleModel",
            "_view_count": null,
            "_view_module": "@jupyter-widgets/base",
            "_view_module_version": "1.2.0",
            "_view_name": "StyleView",
            "description_width": ""
          }
        },
        "ebc94ead69ea4c12b05b52b94b176b29": {
          "model_module": "@jupyter-widgets/controls",
          "model_module_version": "1.5.0",
          "model_name": "DescriptionStyleModel",
          "state": {
            "_model_module": "@jupyter-widgets/controls",
            "_model_module_version": "1.5.0",
            "_model_name": "DescriptionStyleModel",
            "_view_count": null,
            "_view_module": "@jupyter-widgets/base",
            "_view_module_version": "1.2.0",
            "_view_name": "StyleView",
            "description_width": ""
          }
        },
        "ecb4ea4bb4dc4a1b8567a6578f3ab013": {
          "model_module": "@jupyter-widgets/base",
          "model_module_version": "1.2.0",
          "model_name": "LayoutModel",
          "state": {
            "_model_module": "@jupyter-widgets/base",
            "_model_module_version": "1.2.0",
            "_model_name": "LayoutModel",
            "_view_count": null,
            "_view_module": "@jupyter-widgets/base",
            "_view_module_version": "1.2.0",
            "_view_name": "LayoutView",
            "align_content": null,
            "align_items": null,
            "align_self": null,
            "border": null,
            "bottom": null,
            "display": null,
            "flex": null,
            "flex_flow": null,
            "grid_area": null,
            "grid_auto_columns": null,
            "grid_auto_flow": null,
            "grid_auto_rows": null,
            "grid_column": null,
            "grid_gap": null,
            "grid_row": null,
            "grid_template_areas": null,
            "grid_template_columns": null,
            "grid_template_rows": null,
            "height": null,
            "justify_content": null,
            "justify_items": null,
            "left": null,
            "margin": null,
            "max_height": null,
            "max_width": null,
            "min_height": null,
            "min_width": null,
            "object_fit": null,
            "object_position": null,
            "order": null,
            "overflow": null,
            "overflow_x": null,
            "overflow_y": null,
            "padding": null,
            "right": null,
            "top": null,
            "visibility": null,
            "width": null
          }
        },
        "ff629413888e4f86a3e7d29c9a55eb81": {
          "model_module": "@jupyter-widgets/controls",
          "model_module_version": "1.5.0",
          "model_name": "FloatProgressModel",
          "state": {
            "_dom_classes": [],
            "_model_module": "@jupyter-widgets/controls",
            "_model_module_version": "1.5.0",
            "_model_name": "FloatProgressModel",
            "_view_count": null,
            "_view_module": "@jupyter-widgets/controls",
            "_view_module_version": "1.5.0",
            "_view_name": "ProgressView",
            "bar_style": "success",
            "description": "",
            "description_tooltip": null,
            "layout": "IPY_MODEL_155a74b737dc49249c7469a4e11cef7d",
            "max": 1,
            "min": 0,
            "orientation": "horizontal",
            "style": "IPY_MODEL_cf33c7eba0544c1682360d043658ac8e",
            "value": 1
          }
        }
      }
    }
  },
  "nbformat": 4,
  "nbformat_minor": 0
}
